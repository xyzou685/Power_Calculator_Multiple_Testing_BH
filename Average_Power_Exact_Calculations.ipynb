{
 "cells": [
  {
   "cell_type": "markdown",
   "id": "faaba6bf",
   "metadata": {},
   "source": [
    "### Functions"
   ]
  },
  {
   "cell_type": "code",
   "execution_count": 9,
   "id": "81e78f73",
   "metadata": {},
   "outputs": [],
   "source": [
    "from itertools import product, combinations_with_replacement, combinations\n",
    "import numpy as np\n",
    "from scipy import stats\n",
    "from typing import List, Callable\n",
    "from math import sqrt"
   ]
  },
  {
   "cell_type": "code",
   "execution_count": null,
   "id": "6720a9da",
   "metadata": {},
   "outputs": [],
   "source": [
    "def prob(\n",
    "    k: int,  # number of null hypotheses rejected by the BH procedure\n",
    "    j: int,  # number of false rejections\n",
    "    m: int,  # number of total hypotheses\n",
    "    n: int,  # number of truly null hypotheses\n",
    "    alt_cdf: Callable,  # distribution of p-values under alternative\n",
    "    α: float,\n",
    ") -> float:\n",
    "    # Returns the probability of observing k & j given fdr, m, n, and alt_cdf\n",
    "    # Defined in DOI: 10.2202/1557-4679.1103, eq. (5)\n",
    "    # Pr(J=j, K=k) is based on a specific sum the joint CDFs of the order statistics Φ\n",
    "    assert m > n\n",
    "\n",
    "    if j > k:\n",
    "        return 0\n",
    "\n",
    "    probability = 0\n",
    "\n",
    "    for combo in eq_5_combinations(m, k):\n",
    "        sign = -1 if len(combo) % 2 else 1  # alternate adding and subtracting\n",
    "\n",
    "        probability += sign * F_ordinal(combo, j, m, n, alt_cdf, α)\n",
    "\n",
    "    return probability\n",
    "\n",
    "\n",
    "def eq_5_combinations(m: int, k: int) -> List[List[int]]:\n",
    "    # Defined in DOI: 10.2202/1557-4679.1103, eq. (5)\n",
    "    # returns a list of ordered lists with unique integer elements representing order statistics\n",
    "\n",
    "    # (k),\n",
    "    # (combinations of (k) and another order statistic (r) which is k < r <=m)\n",
    "    # (combinations of (k) and two other order statistic (r) (s) which are k < r < s <=m)\n",
    "    # (combinations of (k) and three other order statistic (r)(s)(t) which are k < r < s < t <=m)\n",
    "    # ...\n",
    "    # (k, ..., m)\n",
    "    #\n",
    "    # for k = 1, m = 3, returns [[1], [1, 2], [1, 3], [1, 2, 3]]\n",
    "\n",
    "    for sum_idx in range(0, m - k + 1):  # first sum, second sum, etc.\n",
    "        for combo in combinations(range(k + 1, m + 1), r=sum_idx):\n",
    "            yield [k, *combo]\n",
    "\n",
    "\n",
    "def F_ordinal(combo, j, m, n, alt_cdf, α):\n",
    "    # Defined in DOI: 10.2202/1557-4679.1103, eq. (12)\n",
    "\n",
    "    total = 0\n",
    "    b = _b(m, α)\n",
    "\n",
    "    # pn0 = 0 and pne+1 = 1\n",
    "    p = (0, *[b(p) for p in combo], 1)\n",
    "\n",
    "    for i_vec in _I(combo=combo, m=m):\n",
    "        for μ in _M(combo, i_vec, n_row=m, true_null=n, false_rejections=j):\n",
    "            for h in range(len(combo) + 1):\n",
    "                subtotal = 1\n",
    "                for i in np.nonzero(μ[:, h])[0] + 1:  # find i s.t. μ_{ih}=1\n",
    "                    F = _F(i, n, alt_cdf)\n",
    "\n",
    "                    subtotal *= F(p[h + 1]) - F(p[h])\n",
    "                total += subtotal\n",
    "                if total > 1:\n",
    "                    breakpoint()\n",
    "\n",
    "    if not (0 <= total <= 1):\n",
    "        breakpoint()\n",
    "\n",
    "    return total\n",
    "\n",
    "\n",
    "def _b(m, alpha) -> Callable:\n",
    "    # BH rejection bounds\n",
    "    def b(i):\n",
    "        return (i * alpha) / m\n",
    "\n",
    "    return b\n",
    "\n",
    "\n",
    "def _F(i, n, alt_cdf) -> Callable:\n",
    "    # p-value's cdf\n",
    "    # uniform when it's a true null\n",
    "\n",
    "    if i <= n:\n",
    "        return lambda p: p\n",
    "    else:\n",
    "        return alt_cdf\n",
    "\n",
    "\n",
    "# I index set, =[i_vec_0,...,i_vec_e+1]\n",
    "def _I(combo, m):\n",
    "    I_vec = combinations_with_replacement(range(m + 1), len(combo) + 2)\n",
    "    # i_vec_0=0, i_vec_e+1=m\n",
    "    I_vec = filter(lambda x: x[0] == 0 and x[len(combo) + 1] == m, I_vec)\n",
    "    # non-descending order\n",
    "    I_vec = filter(lambda x: sorted(x) == list(x), I_vec)\n",
    "    # i_h>=n_h for h=1,...,len(perm)\n",
    "    for i in filter(\n",
    "        lambda x: all(i >= combo[y] for y, i in enumerate(x[1 : len(combo) + 1])), I_vec\n",
    "    ):\n",
    "        yield i\n",
    "\n",
    "\n",
    "def _M(combo: List[int], i_vec: List[int], n_row: int, true_null, false_rejections):\n",
    "    # M is set of μ; μ's size=[m,e+1]\n",
    "    # i_vec is a vector in I(perm)\n",
    "    assert n_row >= true_null\n",
    "    assert false_rejections <= true_null\n",
    "\n",
    "    n_col = len(combo) + 1\n",
    "\n",
    "    # constraint 11\n",
    "    possible_rows = np.identity(n_col)\n",
    "    candidates = [np.array(a) for a in product(possible_rows, repeat=n_row)]\n",
    "\n",
    "    for arr in candidates:\n",
    "        # constaint 9\n",
    "        if np.sum(arr[0:true_null, 0]) == false_rejections:\n",
    "            # constraint 10\n",
    "            if np.all(\n",
    "                [\n",
    "                    np.sum(arr[::, h]) == (i_vec[h + 1] - i_vec[h])\n",
    "                    for h in range(1, n_col)\n",
    "                ]\n",
    "            ):\n",
    "                yield arr\n",
    "\n",
    "\n"
   ]
  },
  {
   "cell_type": "markdown",
   "id": "7d9ecf82",
   "metadata": {},
   "source": [
    "### Calculations"
   ]
  },
  {
   "cell_type": "code",
   "execution_count": null,
   "id": "b210932c",
   "metadata": {},
   "outputs": [],
   "source": [
    "# parameters from table 1\n",
    "ALPHA = 0.05\n",
    "M = 2\n",
    "N = 1\n",
    "\n",
    "\n",
    "def alt_cdf(p):\n",
    "    # CDF of p-values under with H0: δ = 0 when actually δ = 1, σ = 1\n",
    "    SIZE = 100\n",
    "    DELTA = 1\n",
    "\n",
    "    Z = stats.norm.ppf(p / 2, scale=1 / sqrt(SIZE))\n",
    "    return stats.norm.cdf(Z, loc=DELTA, scale=1 / 1 / sqrt(SIZE))\n",
    "\n",
    "\n",
    "expectation = 0\n",
    "\n",
    "for k in range(1, M + 1):\n",
    "    for j in range(0, N + 1):\n",
    "        possibility = (k - j) / (M - N)\n",
    "        probability = prob(k, j, M, N, alt_cdf, ALPHA)\n",
    "\n",
    "        expectation += possibility * probability\n",
    "        if not (0 <= probability <= 1):\n",
    "            print(k, j, probability)"
   ]
  },
  {
   "cell_type": "code",
   "execution_count": 52,
   "id": "3babc580",
   "metadata": {},
   "outputs": [],
   "source": [
    "# parameters from table 1\n",
    "delt = 1\n",
    "var = 1\n",
    "alpha = 0.05\n",
    "s = 5\n",
    "M = 5\n",
    "N = 3\n",
    "null_test=[1,2,3]"
   ]
  },
  {
   "cell_type": "code",
   "execution_count": null,
   "id": "ce962f50",
   "metadata": {},
   "outputs": [],
   "source": [
    "K = np.arange(1, M + 1)\n",
    "J = np.arange(N)\n",
    "false_null = M - N\n",
    "avg_pow = 0\n",
    "\n",
    "# formula(14)\n",
    "for [k, j] in np.array(np.meshgrid(K, J)).T.reshape(-1, 2):\n",
    "    if k <= j:\n",
    "        continue\n",
    "    print(k,j,(k - j) / false_null * prob(k, j,fdr=alpha,m=M,n=N,delta=delt,variance=var,size=s, null=null_test))\n",
    "    avg_pow += (k - j) / false_null * prob(k, j, fdr=alpha,m=M,n=N,delta=delt,variance=var,size=s, null=null_test)\n",
    "\n",
    "print(avg_pow)"
   ]
  },
  {
   "cell_type": "markdown",
   "id": "24a0cb25",
   "metadata": {},
   "source": [
    "### Bug"
   ]
  },
  {
   "cell_type": "code",
   "execution_count": 53,
   "id": "2df0fac2",
   "metadata": {},
   "outputs": [
    {
     "ename": "AssertionError",
     "evalue": "invalid when perm=(1,), k=1,j=1",
     "output_type": "error",
     "traceback": [
      "\u001b[0;31m---------------------------------------------------------------------------\u001b[0m",
      "\u001b[0;31mAssertionError\u001b[0m                            Traceback (most recent call last)",
      "\u001b[0;32m/var/folders/44/dk_kfs897yq1jpt83l7l78lc0000gp/T/ipykernel_19808/3238643658.py\u001b[0m in \u001b[0;36m<module>\u001b[0;34m\u001b[0m\n\u001b[0;32m----> 1\u001b[0;31m \u001b[0mprob\u001b[0m\u001b[0;34m(\u001b[0m\u001b[0mk\u001b[0m\u001b[0;34m=\u001b[0m\u001b[0;36m1\u001b[0m\u001b[0;34m,\u001b[0m \u001b[0mj\u001b[0m\u001b[0;34m=\u001b[0m\u001b[0;36m1\u001b[0m\u001b[0;34m,\u001b[0m \u001b[0mfdr\u001b[0m\u001b[0;34m=\u001b[0m\u001b[0malpha\u001b[0m\u001b[0;34m,\u001b[0m\u001b[0mm\u001b[0m\u001b[0;34m=\u001b[0m\u001b[0mM\u001b[0m\u001b[0;34m,\u001b[0m\u001b[0mn\u001b[0m\u001b[0;34m=\u001b[0m\u001b[0mN\u001b[0m\u001b[0;34m,\u001b[0m\u001b[0mdelta\u001b[0m\u001b[0;34m=\u001b[0m\u001b[0mdelt\u001b[0m\u001b[0;34m,\u001b[0m\u001b[0mvariance\u001b[0m\u001b[0;34m=\u001b[0m\u001b[0mvar\u001b[0m\u001b[0;34m,\u001b[0m\u001b[0msize\u001b[0m\u001b[0;34m=\u001b[0m\u001b[0ms\u001b[0m\u001b[0;34m,\u001b[0m \u001b[0mnull\u001b[0m\u001b[0;34m=\u001b[0m\u001b[0mnull_test\u001b[0m\u001b[0;34m)\u001b[0m\u001b[0;34m\u001b[0m\u001b[0;34m\u001b[0m\u001b[0m\n\u001b[0m",
      "\u001b[0;32m/var/folders/44/dk_kfs897yq1jpt83l7l78lc0000gp/T/ipykernel_19808/1948502376.py\u001b[0m in \u001b[0;36mprob\u001b[0;34m(k, j, fdr, m, n, delta, variance, size, null)\u001b[0m\n\u001b[1;32m      2\u001b[0m     \u001b[0;31m#edge case: k=0\u001b[0m\u001b[0;34m\u001b[0m\u001b[0;34m\u001b[0m\u001b[0m\n\u001b[1;32m      3\u001b[0m     \u001b[0;32massert\u001b[0m \u001b[0mm\u001b[0m\u001b[0;34m>\u001b[0m\u001b[0mn\u001b[0m\u001b[0;34m\u001b[0m\u001b[0;34m\u001b[0m\u001b[0m\n\u001b[0;32m----> 4\u001b[0;31m     \u001b[0;32mreturn\u001b[0m \u001b[0msum\u001b[0m\u001b[0;34m(\u001b[0m\u001b[0;34m[\u001b[0m\u001b[0mexpand\u001b[0m\u001b[0;34m(\u001b[0m\u001b[0mk\u001b[0m\u001b[0;34m,\u001b[0m \u001b[0mj\u001b[0m\u001b[0;34m,\u001b[0m \u001b[0mi\u001b[0m\u001b[0;34m,\u001b[0m \u001b[0mm\u001b[0m\u001b[0;34m,\u001b[0m \u001b[0mn\u001b[0m\u001b[0;34m,\u001b[0m \u001b[0mfdr\u001b[0m\u001b[0;34m,\u001b[0m \u001b[0mnull\u001b[0m\u001b[0;34m,\u001b[0m \u001b[0mdelta\u001b[0m\u001b[0;34m,\u001b[0m\u001b[0mvariance\u001b[0m\u001b[0;34m,\u001b[0m\u001b[0msize\u001b[0m\u001b[0;34m)\u001b[0m \u001b[0;32mfor\u001b[0m \u001b[0mi\u001b[0m \u001b[0;32min\u001b[0m \u001b[0mrange\u001b[0m\u001b[0;34m(\u001b[0m\u001b[0;36m1\u001b[0m\u001b[0;34m,\u001b[0m \u001b[0mm\u001b[0m \u001b[0;34m-\u001b[0m \u001b[0mk\u001b[0m\u001b[0;34m+\u001b[0m\u001b[0;36m2\u001b[0m\u001b[0;34m)\u001b[0m\u001b[0;34m]\u001b[0m\u001b[0;34m)\u001b[0m\u001b[0;34m\u001b[0m\u001b[0;34m\u001b[0m\u001b[0m\n\u001b[0m\u001b[1;32m      5\u001b[0m \u001b[0;34m\u001b[0m\u001b[0m\n\u001b[1;32m      6\u001b[0m \u001b[0;34m\u001b[0m\u001b[0m\n",
      "\u001b[0;32m/var/folders/44/dk_kfs897yq1jpt83l7l78lc0000gp/T/ipykernel_19808/1948502376.py\u001b[0m in \u001b[0;36m<listcomp>\u001b[0;34m(.0)\u001b[0m\n\u001b[1;32m      2\u001b[0m     \u001b[0;31m#edge case: k=0\u001b[0m\u001b[0;34m\u001b[0m\u001b[0;34m\u001b[0m\u001b[0m\n\u001b[1;32m      3\u001b[0m     \u001b[0;32massert\u001b[0m \u001b[0mm\u001b[0m\u001b[0;34m>\u001b[0m\u001b[0mn\u001b[0m\u001b[0;34m\u001b[0m\u001b[0;34m\u001b[0m\u001b[0m\n\u001b[0;32m----> 4\u001b[0;31m     \u001b[0;32mreturn\u001b[0m \u001b[0msum\u001b[0m\u001b[0;34m(\u001b[0m\u001b[0;34m[\u001b[0m\u001b[0mexpand\u001b[0m\u001b[0;34m(\u001b[0m\u001b[0mk\u001b[0m\u001b[0;34m,\u001b[0m \u001b[0mj\u001b[0m\u001b[0;34m,\u001b[0m \u001b[0mi\u001b[0m\u001b[0;34m,\u001b[0m \u001b[0mm\u001b[0m\u001b[0;34m,\u001b[0m \u001b[0mn\u001b[0m\u001b[0;34m,\u001b[0m \u001b[0mfdr\u001b[0m\u001b[0;34m,\u001b[0m \u001b[0mnull\u001b[0m\u001b[0;34m,\u001b[0m \u001b[0mdelta\u001b[0m\u001b[0;34m,\u001b[0m\u001b[0mvariance\u001b[0m\u001b[0;34m,\u001b[0m\u001b[0msize\u001b[0m\u001b[0;34m)\u001b[0m \u001b[0;32mfor\u001b[0m \u001b[0mi\u001b[0m \u001b[0;32min\u001b[0m \u001b[0mrange\u001b[0m\u001b[0;34m(\u001b[0m\u001b[0;36m1\u001b[0m\u001b[0;34m,\u001b[0m \u001b[0mm\u001b[0m \u001b[0;34m-\u001b[0m \u001b[0mk\u001b[0m\u001b[0;34m+\u001b[0m\u001b[0;36m2\u001b[0m\u001b[0;34m)\u001b[0m\u001b[0;34m]\u001b[0m\u001b[0;34m)\u001b[0m\u001b[0;34m\u001b[0m\u001b[0;34m\u001b[0m\u001b[0m\n\u001b[0m\u001b[1;32m      5\u001b[0m \u001b[0;34m\u001b[0m\u001b[0m\n\u001b[1;32m      6\u001b[0m \u001b[0;34m\u001b[0m\u001b[0m\n",
      "\u001b[0;32m/var/folders/44/dk_kfs897yq1jpt83l7l78lc0000gp/T/ipykernel_19808/1948502376.py\u001b[0m in \u001b[0;36mexpand\u001b[0;34m(k, j, i, m, n, fdr, null, delta, variance, size)\u001b[0m\n\u001b[1;32m     15\u001b[0m \u001b[0;34m\u001b[0m\u001b[0m\n\u001b[1;32m     16\u001b[0m     \u001b[0;32mfor\u001b[0m \u001b[0mperm\u001b[0m \u001b[0;32min\u001b[0m \u001b[0mpermutation\u001b[0m\u001b[0;34m:\u001b[0m\u001b[0;34m\u001b[0m\u001b[0;34m\u001b[0m\u001b[0m\n\u001b[0;32m---> 17\u001b[0;31m         assert f_ordinal(perm, k, j, m, n, fdr, null, delta,variance,size)>=0 and f_ordinal(\n\u001b[0m\u001b[1;32m     18\u001b[0m             perm, k, j, m, n, fdr, null, delta,variance,size)<1, f'invalid when perm={perm}, k={k},j={j}'\n\u001b[1;32m     19\u001b[0m \u001b[0;34m\u001b[0m\u001b[0m\n",
      "\u001b[0;31mAssertionError\u001b[0m: invalid when perm=(1,), k=1,j=1"
     ]
    }
   ],
   "source": [
    "prob(k=1, j=1, fdr=alpha,m=M,n=N,delta=delt,variance=var,size=s, null=null_test)"
   ]
  },
  {
   "cell_type": "code",
   "execution_count": 56,
   "id": "ffe936c3",
   "metadata": {},
   "outputs": [
    {
     "data": {
      "text/plain": [
       "3.970299"
      ]
     },
     "execution_count": 56,
     "metadata": {},
     "output_type": "execute_result"
    }
   ],
   "source": [
    "f_ordinal((1,), k, j, M, N, alpha, null_test, delt,var,s)"
   ]
  },
  {
   "cell_type": "code",
   "execution_count": 58,
   "id": "d65c7751",
   "metadata": {},
   "outputs": [
    {
     "data": {
      "text/plain": [
       "0.99"
      ]
     },
     "execution_count": 58,
     "metadata": {},
     "output_type": "execute_result"
    }
   ],
   "source": [
    "F(1, b(perm=(1,), fdr=alpha,m=M)[2],null=null_test,fdr=alpha,delta=delt,variance=\n",
    "                                          var,m=M,n=N,size=s) - F(\n",
    "                                1, b(perm=(1,), fdr=alpha,m=M)[1],null=null_test,fdr=alpha,delta=delt,variance=\n",
    "                                          var,m=M,n=N,size=s)"
   ]
  },
  {
   "cell_type": "markdown",
   "id": "d87af9a0",
   "metadata": {},
   "source": [
    "Note: since b[e+1]=1, F(i,b[e+1])=prob(ith hypothesis' p-value<=1)=1 for all i. b[e] is usually very small since it's rejection boundary under BH procedure. This makes all F(i,b[e+1])-F(i,b[e]) very close to 1 thus the results of formula 12(function f_ordinal) is always larger than one for all i and all perm."
   ]
  },
  {
   "cell_type": "code",
   "execution_count": null,
   "id": "beb623ed",
   "metadata": {},
   "outputs": [],
   "source": []
  }
 ],
 "metadata": {
  "kernelspec": {
   "display_name": "Python 3 (ipykernel)",
   "language": "python",
   "name": "python3"
  },
  "language_info": {
   "codemirror_mode": {
    "name": "ipython",
    "version": 3
   },
   "file_extension": ".py",
   "mimetype": "text/x-python",
   "name": "python",
   "nbconvert_exporter": "python",
   "pygments_lexer": "ipython3",
   "version": "3.9.7"
  }
 },
 "nbformat": 4,
 "nbformat_minor": 5
}
