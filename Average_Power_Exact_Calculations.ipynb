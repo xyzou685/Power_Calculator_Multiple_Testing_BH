{
 "cells": [
  {
   "cell_type": "markdown",
   "id": "368e782b",
   "metadata": {},
   "source": [
    "### Functions"
   ]
  },
  {
   "cell_type": "code",
   "execution_count": 9,
   "id": "89014599",
   "metadata": {},
   "outputs": [],
   "source": [
    "from itertools import product, combinations_with_replacement, combinations\n",
    "import numpy as np\n",
    "from scipy import stats\n",
    "from typing import List, Callable\n",
    "from math import sqrt"
   ]
  },
  {
   "cell_type": "code",
   "execution_count": null,
   "id": "64c6c6e5",
   "metadata": {},
   "outputs": [],
   "source": [
    "def prob(k, j, fdr=alpha,m=M,n=N,delta=delt,variance=var,size=s, null=null_test):\n",
    "    #edge case: k=0\n",
    "    assert m>n\n",
    "    return sum([expand(k, j, i, m, n, fdr, null, delta,variance,size) for i in range(1, m - k+2)])\n",
    "\n",
    "\n",
    "def expand(k, j, i, m, n, fdr, null, delta,variance,size):\n",
    "    # find constrained permutation\n",
    "    # combinations = sorted permutations only\n",
    "    permutation = combinations(np.arange(k , m+1),i)\n",
    "    # k is fixed, not iterating\n",
    "    permutation = list(filter(lambda x: list(x)[0]==k, permutation))\n",
    "    \n",
    "    total = 0\n",
    "    \n",
    "    for perm in permutation:\n",
    "        assert f_ordinal(perm, k, j, m, n, fdr, null, delta,variance,size)>=0 and f_ordinal(\n",
    "            perm, k, j, m, n, fdr, null, delta,variance,size)<1, f'invalid when perm={perm}, k={k},j={j}'\n",
    "                \n",
    "        total += f_ordinal(perm, k, j, m, n, fdr, null, delta,variance,size)\n",
    "    \n",
    "    #when i is odd, *1 otherwise *(-1)\n",
    "    return (-1) ** (i+1) * total\n",
    "\n",
    "\n",
    "# p-value's cdf     \n",
    "def F(i,b,null,fdr,delta,variance,m,n,size):\n",
    "    #temporary set it to be 0 when uncertain about F_0 \n",
    "    if i==0:\n",
    "        return 0\n",
    "    \n",
    "    #uniform when it's a true null \n",
    "    if i in null:\n",
    "        F=b\n",
    "\n",
    "    else:\n",
    "        F=stats.norm.cdf(stats.norm.ppf(b/2)-delta/(variance/np.sqrt(size)))+1-stats.norm.cdf(\n",
    "            stats.norm.ppf(1-b/2)-delta/(variance/np.sqrt(size)))\n",
    "    return F\n",
    "\n",
    "\n",
    "# BH rejection bounds\n",
    "def b(perm,fdr,m):\n",
    "    # b_n0=0, b_n_e+1=1, b_n1...b_n_e= BH rejection bounds for n_1,...,n_e; e=len(perm)\n",
    "    b0_e=np.append(0,np.array(perm))*fdr/m\n",
    "    return np.append(b0_e,1)\n",
    "\n",
    "# I index set, =[i_vec_0,...,i_vec_e+1]\n",
    "def I(perm, m):\n",
    "    I_vec = combinations_with_replacement(range(m+1), len(perm) + 2)\n",
    "    # i_vec_0=0, i_vec_e+1=m\n",
    "    I_vec = filter(lambda x: x[0]==0 and x[len(perm)+1]==m, I_vec)\n",
    "    # non-descending order\n",
    "    I_vec = filter(lambda x: sorted(x) == list(x), I_vec)\n",
    "    # i_h>=n_h for h=1,...,len(perm)\n",
    "    I_vec=filter(lambda x: all(i >= perm[y] for y,i in enumerate(x[1:len(perm)+1])),I_vec)\n",
    "    return list(I_vec)\n",
    "\n",
    "\n",
    "\n",
    "# M index set; μ's size=[m,e+1]\n",
    "# i_vec is a vector in I(perm)\n",
    "def Ms(perm, i_vec, n_row, true_null, false_rejections):\n",
    "    assert n_row >= true_null\n",
    "    assert false_rejections <= true_null\n",
    "    n_col = len(perm)+1\n",
    "    \n",
    "    # constraint 11\n",
    "    possible_rows = np.identity(n_col)\n",
    "    candidates = [*product(possible_rows, repeat=n_row)] \n",
    "    \n",
    "    final_M = []\n",
    "    for arr in candidates:\n",
    "        # constaint 9\n",
    "        if np.sum(np.array(arr)[0:true_null, 0]) == false_rejections: \n",
    "            # constraint 10\n",
    "            if np.all(np.sum(np.array(arr)[::, 1:],axis=0) == [(i_vec[h+1] - i_vec[h]) for h in range(1, n_col)]): \n",
    "                final_M.append(arr)\n",
    "                \n",
    "    return final_M\n",
    "\n",
    "\n",
    "# formula 12: find constrained permutation\n",
    "def f_ordinal(perm, k, j, m, n, fdr, null, delta,variance,size):\n",
    "    # I summation\n",
    "    I_set = I(perm=perm, m=m)\n",
    "    total = 0\n",
    "    \n",
    "    for i_vec in I_set:\n",
    "        M_set = Ms(perm,i_vec, n_row=m,true_null=n, false_rejections=j)\n",
    "        if M_set!=[]:\n",
    "            for μ in M_set:\n",
    "                for h in range(len(perm)+1):\n",
    "                    qualified_i=np.nonzero(np.array(μ)[:,h])[0]+1# find i s.t. μ=1\n",
    "                    if len(qualified_i)==0:\n",
    "                        continue\n",
    "                    else:\n",
    "                        subtotal=1\n",
    "                        for i in qualified_i:\n",
    "                            \n",
    "                            subtotal *= F(i, b(perm=perm, fdr=fdr,m=m)[h + 1],null=null,fdr=fdr,delta=delta,variance=\n",
    "                                          variance,m=m,n=n,size=size) - F(\n",
    "                                i, b(perm=perm, fdr=fdr,m=m)[h],null=null,fdr=fdr,delta=delta,variance=\n",
    "                                          variance,m=m,n=n,size=size)\n",
    "                        total+=subtotal\n",
    "    return total"
   ]
  },
  {
   "cell_type": "markdown",
   "id": "3188198e",
   "metadata": {},
   "source": [
    "### Calculations"
   ]
  },
  {
   "cell_type": "code",
   "execution_count": 52,
   "id": "46d8e1e8",
   "metadata": {},
   "outputs": [],
   "source": [
    "# parameters from table 1\n",
    "delt = 1\n",
    "var = 1\n",
    "alpha = 0.05\n",
    "s = 5\n",
    "M = 5\n",
    "N = 3\n",
    "null_test=[1,2,3]"
   ]
  },
  {
   "cell_type": "code",
   "execution_count": null,
   "id": "1c9becf7",
   "metadata": {},
   "outputs": [],
   "source": [
    "K = np.arange(1, M + 1)\n",
    "J = np.arange(N)\n",
    "false_null = M - N\n",
    "avg_pow = 0\n",
    "\n",
    "# formula(14)\n",
    "for [k, j] in np.array(np.meshgrid(K, J)).T.reshape(-1, 2):\n",
    "    if k <= j:\n",
    "        continue\n",
    "    print(k,j,(k - j) / false_null * prob(k, j,fdr=alpha,m=M,n=N,delta=delt,variance=var,size=s, null=null_test))\n",
    "    avg_pow += (k - j) / false_null * prob(k, j, fdr=alpha,m=M,n=N,delta=delt,variance=var,size=s, null=null_test)\n",
    "\n",
    "print(avg_pow)"
   ]
  },
  {
   "cell_type": "markdown",
   "id": "214f6514",
   "metadata": {},
   "source": [
    "### Bug"
   ]
  },
  {
   "cell_type": "code",
   "execution_count": 53,
   "id": "d666fce2",
   "metadata": {},
   "outputs": [
    {
     "ename": "AssertionError",
     "evalue": "invalid when perm=(1,), k=1,j=1",
     "output_type": "error",
     "traceback": [
      "\u001b[0;31m---------------------------------------------------------------------------\u001b[0m",
      "\u001b[0;31mAssertionError\u001b[0m                            Traceback (most recent call last)",
      "\u001b[0;32m/var/folders/44/dk_kfs897yq1jpt83l7l78lc0000gp/T/ipykernel_19808/3238643658.py\u001b[0m in \u001b[0;36m<module>\u001b[0;34m\u001b[0m\n\u001b[0;32m----> 1\u001b[0;31m \u001b[0mprob\u001b[0m\u001b[0;34m(\u001b[0m\u001b[0mk\u001b[0m\u001b[0;34m=\u001b[0m\u001b[0;36m1\u001b[0m\u001b[0;34m,\u001b[0m \u001b[0mj\u001b[0m\u001b[0;34m=\u001b[0m\u001b[0;36m1\u001b[0m\u001b[0;34m,\u001b[0m \u001b[0mfdr\u001b[0m\u001b[0;34m=\u001b[0m\u001b[0malpha\u001b[0m\u001b[0;34m,\u001b[0m\u001b[0mm\u001b[0m\u001b[0;34m=\u001b[0m\u001b[0mM\u001b[0m\u001b[0;34m,\u001b[0m\u001b[0mn\u001b[0m\u001b[0;34m=\u001b[0m\u001b[0mN\u001b[0m\u001b[0;34m,\u001b[0m\u001b[0mdelta\u001b[0m\u001b[0;34m=\u001b[0m\u001b[0mdelt\u001b[0m\u001b[0;34m,\u001b[0m\u001b[0mvariance\u001b[0m\u001b[0;34m=\u001b[0m\u001b[0mvar\u001b[0m\u001b[0;34m,\u001b[0m\u001b[0msize\u001b[0m\u001b[0;34m=\u001b[0m\u001b[0ms\u001b[0m\u001b[0;34m,\u001b[0m \u001b[0mnull\u001b[0m\u001b[0;34m=\u001b[0m\u001b[0mnull_test\u001b[0m\u001b[0;34m)\u001b[0m\u001b[0;34m\u001b[0m\u001b[0;34m\u001b[0m\u001b[0m\n\u001b[0m",
      "\u001b[0;32m/var/folders/44/dk_kfs897yq1jpt83l7l78lc0000gp/T/ipykernel_19808/1948502376.py\u001b[0m in \u001b[0;36mprob\u001b[0;34m(k, j, fdr, m, n, delta, variance, size, null)\u001b[0m\n\u001b[1;32m      2\u001b[0m     \u001b[0;31m#edge case: k=0\u001b[0m\u001b[0;34m\u001b[0m\u001b[0;34m\u001b[0m\u001b[0m\n\u001b[1;32m      3\u001b[0m     \u001b[0;32massert\u001b[0m \u001b[0mm\u001b[0m\u001b[0;34m>\u001b[0m\u001b[0mn\u001b[0m\u001b[0;34m\u001b[0m\u001b[0;34m\u001b[0m\u001b[0m\n\u001b[0;32m----> 4\u001b[0;31m     \u001b[0;32mreturn\u001b[0m \u001b[0msum\u001b[0m\u001b[0;34m(\u001b[0m\u001b[0;34m[\u001b[0m\u001b[0mexpand\u001b[0m\u001b[0;34m(\u001b[0m\u001b[0mk\u001b[0m\u001b[0;34m,\u001b[0m \u001b[0mj\u001b[0m\u001b[0;34m,\u001b[0m \u001b[0mi\u001b[0m\u001b[0;34m,\u001b[0m \u001b[0mm\u001b[0m\u001b[0;34m,\u001b[0m \u001b[0mn\u001b[0m\u001b[0;34m,\u001b[0m \u001b[0mfdr\u001b[0m\u001b[0;34m,\u001b[0m \u001b[0mnull\u001b[0m\u001b[0;34m,\u001b[0m \u001b[0mdelta\u001b[0m\u001b[0;34m,\u001b[0m\u001b[0mvariance\u001b[0m\u001b[0;34m,\u001b[0m\u001b[0msize\u001b[0m\u001b[0;34m)\u001b[0m \u001b[0;32mfor\u001b[0m \u001b[0mi\u001b[0m \u001b[0;32min\u001b[0m \u001b[0mrange\u001b[0m\u001b[0;34m(\u001b[0m\u001b[0;36m1\u001b[0m\u001b[0;34m,\u001b[0m \u001b[0mm\u001b[0m \u001b[0;34m-\u001b[0m \u001b[0mk\u001b[0m\u001b[0;34m+\u001b[0m\u001b[0;36m2\u001b[0m\u001b[0;34m)\u001b[0m\u001b[0;34m]\u001b[0m\u001b[0;34m)\u001b[0m\u001b[0;34m\u001b[0m\u001b[0;34m\u001b[0m\u001b[0m\n\u001b[0m\u001b[1;32m      5\u001b[0m \u001b[0;34m\u001b[0m\u001b[0m\n\u001b[1;32m      6\u001b[0m \u001b[0;34m\u001b[0m\u001b[0m\n",
      "\u001b[0;32m/var/folders/44/dk_kfs897yq1jpt83l7l78lc0000gp/T/ipykernel_19808/1948502376.py\u001b[0m in \u001b[0;36m<listcomp>\u001b[0;34m(.0)\u001b[0m\n\u001b[1;32m      2\u001b[0m     \u001b[0;31m#edge case: k=0\u001b[0m\u001b[0;34m\u001b[0m\u001b[0;34m\u001b[0m\u001b[0m\n\u001b[1;32m      3\u001b[0m     \u001b[0;32massert\u001b[0m \u001b[0mm\u001b[0m\u001b[0;34m>\u001b[0m\u001b[0mn\u001b[0m\u001b[0;34m\u001b[0m\u001b[0;34m\u001b[0m\u001b[0m\n\u001b[0;32m----> 4\u001b[0;31m     \u001b[0;32mreturn\u001b[0m \u001b[0msum\u001b[0m\u001b[0;34m(\u001b[0m\u001b[0;34m[\u001b[0m\u001b[0mexpand\u001b[0m\u001b[0;34m(\u001b[0m\u001b[0mk\u001b[0m\u001b[0;34m,\u001b[0m \u001b[0mj\u001b[0m\u001b[0;34m,\u001b[0m \u001b[0mi\u001b[0m\u001b[0;34m,\u001b[0m \u001b[0mm\u001b[0m\u001b[0;34m,\u001b[0m \u001b[0mn\u001b[0m\u001b[0;34m,\u001b[0m \u001b[0mfdr\u001b[0m\u001b[0;34m,\u001b[0m \u001b[0mnull\u001b[0m\u001b[0;34m,\u001b[0m \u001b[0mdelta\u001b[0m\u001b[0;34m,\u001b[0m\u001b[0mvariance\u001b[0m\u001b[0;34m,\u001b[0m\u001b[0msize\u001b[0m\u001b[0;34m)\u001b[0m \u001b[0;32mfor\u001b[0m \u001b[0mi\u001b[0m \u001b[0;32min\u001b[0m \u001b[0mrange\u001b[0m\u001b[0;34m(\u001b[0m\u001b[0;36m1\u001b[0m\u001b[0;34m,\u001b[0m \u001b[0mm\u001b[0m \u001b[0;34m-\u001b[0m \u001b[0mk\u001b[0m\u001b[0;34m+\u001b[0m\u001b[0;36m2\u001b[0m\u001b[0;34m)\u001b[0m\u001b[0;34m]\u001b[0m\u001b[0;34m)\u001b[0m\u001b[0;34m\u001b[0m\u001b[0;34m\u001b[0m\u001b[0m\n\u001b[0m\u001b[1;32m      5\u001b[0m \u001b[0;34m\u001b[0m\u001b[0m\n\u001b[1;32m      6\u001b[0m \u001b[0;34m\u001b[0m\u001b[0m\n",
      "\u001b[0;32m/var/folders/44/dk_kfs897yq1jpt83l7l78lc0000gp/T/ipykernel_19808/1948502376.py\u001b[0m in \u001b[0;36mexpand\u001b[0;34m(k, j, i, m, n, fdr, null, delta, variance, size)\u001b[0m\n\u001b[1;32m     15\u001b[0m \u001b[0;34m\u001b[0m\u001b[0m\n\u001b[1;32m     16\u001b[0m     \u001b[0;32mfor\u001b[0m \u001b[0mperm\u001b[0m \u001b[0;32min\u001b[0m \u001b[0mpermutation\u001b[0m\u001b[0;34m:\u001b[0m\u001b[0;34m\u001b[0m\u001b[0;34m\u001b[0m\u001b[0m\n\u001b[0;32m---> 17\u001b[0;31m         assert f_ordinal(perm, k, j, m, n, fdr, null, delta,variance,size)>=0 and f_ordinal(\n\u001b[0m\u001b[1;32m     18\u001b[0m             perm, k, j, m, n, fdr, null, delta,variance,size)<1, f'invalid when perm={perm}, k={k},j={j}'\n\u001b[1;32m     19\u001b[0m \u001b[0;34m\u001b[0m\u001b[0m\n",
      "\u001b[0;31mAssertionError\u001b[0m: invalid when perm=(1,), k=1,j=1"
     ]
    }
   ],
   "source": [
    "prob(k=1, j=1, fdr=alpha,m=M,n=N,delta=delt,variance=var,size=s, null=null_test)"
   ]
  },
  {
   "cell_type": "code",
   "execution_count": 56,
   "id": "d791b4ba",
   "metadata": {},
   "outputs": [
    {
     "data": {
      "text/plain": [
       "3.970299"
      ]
     },
     "execution_count": 56,
     "metadata": {},
     "output_type": "execute_result"
    }
   ],
   "source": [
    "f_ordinal((1,), k, j, M, N, alpha, null_test, delt,var,s)"
   ]
  },
  {
   "cell_type": "code",
   "execution_count": 58,
   "id": "eac022eb",
   "metadata": {},
   "outputs": [
    {
     "data": {
      "text/plain": [
       "0.99"
      ]
     },
     "execution_count": 58,
     "metadata": {},
     "output_type": "execute_result"
    }
   ],
   "source": [
    "F(1, b(perm=(1,), fdr=alpha,m=M)[2],null=null_test,fdr=alpha,delta=delt,variance=\n",
    "                                          var,m=M,n=N,size=s) - F(\n",
    "                                1, b(perm=(1,), fdr=alpha,m=M)[1],null=null_test,fdr=alpha,delta=delt,variance=\n",
    "                                          var,m=M,n=N,size=s)"
   ]
  },
  {
   "cell_type": "markdown",
   "id": "a954c0b1",
   "metadata": {},
   "source": [
    "Note: since b[e+1]=1, F(i,b[e+1])=prob(ith hypothesis' p-value<=1)=1 for all i. b[e] is usually very small since it's rejection boundary under BH procedure. This makes all F(i,b[e+1])-F(i,b[e]) very close to 1 thus the results of formula 12(function f_ordinal) is always larger than one for all i and all perm."
   ]
  },
  {
   "cell_type": "code",
   "execution_count": null,
   "id": "5f07bddd",
   "metadata": {},
   "outputs": [],
   "source": []
  }
 ],
 "metadata": {
  "kernelspec": {
   "display_name": "Python 3 (ipykernel)",
   "language": "python",
   "name": "python3"
  },
  "language_info": {
   "codemirror_mode": {
    "name": "ipython",
    "version": 3
   },
   "file_extension": ".py",
   "mimetype": "text/x-python",
   "name": "python",
   "nbconvert_exporter": "python",
   "pygments_lexer": "ipython3",
   "version": "3.9.7"
  }
 },
 "nbformat": 4,
 "nbformat_minor": 5
}
